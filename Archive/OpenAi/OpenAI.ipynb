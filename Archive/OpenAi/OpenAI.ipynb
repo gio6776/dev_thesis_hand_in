{
 "cells": [
  {
   "cell_type": "markdown",
   "metadata": {},
   "source": [
    "# Json Response"
   ]
  },
  {
   "cell_type": "code",
   "execution_count": 15,
   "metadata": {},
   "outputs": [],
   "source": [
    "MESSAGES = [{'role': 'user', 'content': \"### Generate Google Big Query SQL query only and with no explanation\\n### Here is the SQL table , with their properties:\\n#\\n# danish-endurance-analytics.nl2sql.amazon_orders('order_id', 'purchase_date', 'buyer_email', 'market', 'child_asin', 'e_conomic_number', 'product_marketing_category', 'product_name', 'product_pack', 'product_and_pack', 'product_category', 'product_type', 'product_size', 'product_colour', 'gross_sales', 'units_sold')\\n#\\n### What was the sales last Friday?\\n\"}, {'role': 'assistant', 'content': '```sql\\nSELECT SUM(gross_sales) AS last_friday_sales\\nFROM danish-endurance-analytics.nl2sql.amazon_orders\\nWHERE purchase_date = DATE_SUB(CURRENT_DATE(), INTERVAL DAYOFWEEK(CURRENT_DATE()) + 1 DAY);\\n```'}]\n",
    "\n",
    "new_messages = {\n",
    "    'role': 'user',\n",
    "    'content': 'What was the last questiona about?'\n",
    "}\n",
    "MESSAGES.append(new_messages)"
   ]
  },
  {
   "cell_type": "code",
   "execution_count": 16,
   "metadata": {},
   "outputs": [
    {
     "data": {
      "text/plain": [
       "'The last question was about retrieving the sales total from last Friday from the Amazon orders table in Google BigQuery.'"
      ]
     },
     "execution_count": 16,
     "metadata": {},
     "output_type": "execute_result"
    }
   ],
   "source": [
    "from openai import OpenAI\n",
    "client = OpenAI()\n",
    "\n",
    "response = client.chat.completions.create(\n",
    "  model=\"gpt-3.5-turbo-0125\",\n",
    "  messages=MESSAGES,\n",
    "  stream=False\n",
    ")\n",
    "response.choices[0].message.content"
   ]
  },
  {
   "cell_type": "code",
   "execution_count": null,
   "metadata": {},
   "outputs": [],
   "source": [
    "string_without_triple_quotes = \"This is a string without triple quotes.\"\n",
    "string_with_triple_quotes = '''{}'''.format(string_without_triple_quotes)\n"
   ]
  },
  {
   "cell_type": "markdown",
   "metadata": {},
   "source": [
    "## Comparasion between GPT 3.5 and GPT 4 in calculating Yoy"
   ]
  },
  {
   "cell_type": "code",
   "execution_count": 3,
   "metadata": {},
   "outputs": [],
   "source": [
    "content = '''Given the dataset below and statistics about this dataset, generate a SQL query in Google Big Query Syntax that answers the following: \n",
    "\n",
    "# User Query\n",
    "Calculate the YoY Sales on a monthly level? I want to see the sales amount for each month and the percentage change from the previous year.\n",
    "\n",
    "# Dataset - `orders.shopify`\n",
    "norder_id | purchase_date | product | sales_amount\n",
    "\n",
    "# Statistics Column: purchase_date\n",
    "Total Unique Dates: 1096 Most Common Date: 2023-11-24, Frequency: 10879\\nSkewness Proxy (Positive indicates skew towards later dates, Negative towards earlier dates): 0.00`\n",
    "'''"
   ]
  },
  {
   "cell_type": "code",
   "execution_count": 4,
   "metadata": {},
   "outputs": [],
   "source": [
    "from openai import OpenAI\n",
    "client = OpenAI()\n",
    "\n",
    "response = client.chat.completions.create(\n",
    "  model=\"gpt-3.5-turbo-0125\",\n",
    "  messages=[\n",
    "    {\n",
    "      \"role\": \"user\",\n",
    "      \"content\": content\n",
    "    }\n",
    "  ],\n",
    "  temperature=0,\n",
    "  max_tokens=500,\n",
    "  top_p=1,\n",
    "  frequency_penalty=0,\n",
    "  presence_penalty=0,\n",
    "  n = 1\n",
    ")"
   ]
  },
  {
   "cell_type": "code",
   "execution_count": 20,
   "metadata": {},
   "outputs": [
    {
     "data": {
      "text/plain": [
       "ChatCompletion(id='chatcmpl-95umtRAEJwbOHg3cIVI0bi4891emD', choices=[Choice(finish_reason='stop', index=0, logprobs=None, message=ChatCompletionMessage(content=\"```sql\\nWITH monthly_sales AS (\\n    SELECT \\n        EXTRACT(MONTH FROM purchase_date) AS month,\\n        EXTRACT(YEAR FROM purchase_date) AS year,\\n        SUM(sales_amount) AS total_sales\\n    FROM \\n        orders.shopify\\n    GROUP BY \\n        month, year\\n)\\n\\nSELECT \\n    CONCAT(CAST(month AS STRING), '-', CAST(year AS STRING)) AS month_year,\\n    total_sales AS sales_amount,\\n    ROUND((total_sales - LAG(total_sales, 12) OVER (ORDER BY year, month)) / LAG(total_sales, 12) OVER (ORDER BY year, month) * 100, 2) AS yoy_sales_percentage_change\\nFROM \\n    monthly_sales\\nORDER BY \\n    year, month\\n```\", role='assistant', function_call=None, tool_calls=None))], created=1711196959, model='gpt-3.5-turbo-0125', object='chat.completion', system_fingerprint='fp_3bc1b5746c', usage=CompletionUsage(completion_tokens=159, prompt_tokens=139, total_tokens=298))"
      ]
     },
     "execution_count": 20,
     "metadata": {},
     "output_type": "execute_result"
    }
   ],
   "source": [
    "response"
   ]
  },
  {
   "cell_type": "code",
   "execution_count": 6,
   "metadata": {},
   "outputs": [
    {
     "ename": "IndexError",
     "evalue": "list index out of range",
     "output_type": "error",
     "traceback": [
      "\u001b[1;31m---------------------------------------------------------------------------\u001b[0m",
      "\u001b[1;31mIndexError\u001b[0m                                Traceback (most recent call last)",
      "Cell \u001b[1;32mIn[6], line 5\u001b[0m\n\u001b[0;32m      3\u001b[0m df \u001b[38;5;241m=\u001b[39m pd\u001b[38;5;241m.\u001b[39mDataFrame(columns\u001b[38;5;241m=\u001b[39m[\u001b[38;5;124m'\u001b[39m\u001b[38;5;124mresponse\u001b[39m\u001b[38;5;124m'\u001b[39m])\n\u001b[0;32m      4\u001b[0m \u001b[38;5;28;01mfor\u001b[39;00m i \u001b[38;5;129;01min\u001b[39;00m \u001b[38;5;28mrange\u001b[39m(\u001b[38;5;241m10\u001b[39m):\n\u001b[1;32m----> 5\u001b[0m    df\u001b[38;5;241m.\u001b[39mloc[i] \u001b[38;5;241m=\u001b[39m \u001b[43mresponse\u001b[49m\u001b[38;5;241;43m.\u001b[39;49m\u001b[43mchoices\u001b[49m\u001b[43m[\u001b[49m\u001b[43mi\u001b[49m\u001b[43m]\u001b[49m\u001b[38;5;241m.\u001b[39mmessage\u001b[38;5;241m.\u001b[39mcontent\n",
      "\u001b[1;31mIndexError\u001b[0m: list index out of range"
     ]
    }
   ],
   "source": [
    " # loop through the response.choices ans save into a dataframe called df with 1 - reponse, 2 -reponse ..\n",
    "import pandas as pd\n",
    "df = pd.DataFrame(columns=['response'])\n",
    "for i in range(10):\n",
    "    df.loc[i] = response.choices[i].message.content"
   ]
  },
  {
   "cell_type": "code",
   "execution_count": 83,
   "metadata": {},
   "outputs": [
    {
     "data": {
      "text/html": [
       "<div>\n",
       "<style scoped>\n",
       "    .dataframe tbody tr th:only-of-type {\n",
       "        vertical-align: middle;\n",
       "    }\n",
       "\n",
       "    .dataframe tbody tr th {\n",
       "        vertical-align: top;\n",
       "    }\n",
       "\n",
       "    .dataframe thead th {\n",
       "        text-align: right;\n",
       "    }\n",
       "</style>\n",
       "<table border=\"1\" class=\"dataframe\">\n",
       "  <thead>\n",
       "    <tr style=\"text-align: right;\">\n",
       "      <th></th>\n",
       "      <th>response</th>\n",
       "    </tr>\n",
       "  </thead>\n",
       "  <tbody>\n",
       "    <tr>\n",
       "      <th>0</th>\n",
       "      <td>```sql\\nWITH monthly_sales AS (\\n    SELECT \\n...</td>\n",
       "    </tr>\n",
       "    <tr>\n",
       "      <th>1</th>\n",
       "      <td>```sql\\nWITH monthly_sales AS (\\n    SELECT \\n...</td>\n",
       "    </tr>\n",
       "    <tr>\n",
       "      <th>2</th>\n",
       "      <td>```sql\\nWITH monthly_sales AS (\\n    SELECT \\n...</td>\n",
       "    </tr>\n",
       "    <tr>\n",
       "      <th>3</th>\n",
       "      <td>```sql\\nWITH monthly_sales AS (\\n    SELECT \\n...</td>\n",
       "    </tr>\n",
       "    <tr>\n",
       "      <th>4</th>\n",
       "      <td>```sql\\nWITH monthly_sales AS (\\n    SELECT \\n...</td>\n",
       "    </tr>\n",
       "    <tr>\n",
       "      <th>5</th>\n",
       "      <td>```sql\\nWITH monthly_sales AS (\\n    SELECT \\n...</td>\n",
       "    </tr>\n",
       "    <tr>\n",
       "      <th>6</th>\n",
       "      <td>```sql\\nWITH monthly_sales AS (\\n    SELECT \\n...</td>\n",
       "    </tr>\n",
       "    <tr>\n",
       "      <th>7</th>\n",
       "      <td>```sql\\nWITH monthly_sales AS (\\n    SELECT \\n...</td>\n",
       "    </tr>\n",
       "    <tr>\n",
       "      <th>8</th>\n",
       "      <td>```sql\\nWITH monthly_sales AS (\\n    SELECT \\n...</td>\n",
       "    </tr>\n",
       "    <tr>\n",
       "      <th>9</th>\n",
       "      <td>```sql\\nWITH monthly_sales AS (\\n    SELECT \\n...</td>\n",
       "    </tr>\n",
       "  </tbody>\n",
       "</table>\n",
       "</div>"
      ],
      "text/plain": [
       "                                            response\n",
       "0  ```sql\\nWITH monthly_sales AS (\\n    SELECT \\n...\n",
       "1  ```sql\\nWITH monthly_sales AS (\\n    SELECT \\n...\n",
       "2  ```sql\\nWITH monthly_sales AS (\\n    SELECT \\n...\n",
       "3  ```sql\\nWITH monthly_sales AS (\\n    SELECT \\n...\n",
       "4  ```sql\\nWITH monthly_sales AS (\\n    SELECT \\n...\n",
       "5  ```sql\\nWITH monthly_sales AS (\\n    SELECT \\n...\n",
       "6  ```sql\\nWITH monthly_sales AS (\\n    SELECT \\n...\n",
       "7  ```sql\\nWITH monthly_sales AS (\\n    SELECT \\n...\n",
       "8  ```sql\\nWITH monthly_sales AS (\\n    SELECT \\n...\n",
       "9  ```sql\\nWITH monthly_sales AS (\\n    SELECT \\n..."
      ]
     },
     "execution_count": 83,
     "metadata": {},
     "output_type": "execute_result"
    }
   ],
   "source": [
    "df"
   ]
  },
  {
   "cell_type": "code",
   "execution_count": 79,
   "metadata": {},
   "outputs": [],
   "source": [
    "import openpyxl\n",
    "# export the dataframe to an excel file called response.xlsx\n",
    "df.to_excel('response_gpt3.5-4.xlsx', index = False, engine='openpyxl')"
   ]
  },
  {
   "cell_type": "code",
   "execution_count": 84,
   "metadata": {},
   "outputs": [],
   "source": [
    "# count the number of columns in which the word \"LAG\" appears in the response\n",
    "count = 0\n",
    "for i in range(10):\n",
    "    if \"LAG\" in response.choices[i].message.content:\n",
    "        count += 1"
   ]
  },
  {
   "cell_type": "code",
   "execution_count": 85,
   "metadata": {},
   "outputs": [
    {
     "data": {
      "text/plain": [
       "10"
      ]
     },
     "execution_count": 85,
     "metadata": {},
     "output_type": "execute_result"
    }
   ],
   "source": [
    "count"
   ]
  },
  {
   "cell_type": "markdown",
   "metadata": {},
   "source": [
    "## Self-debugging"
   ]
  },
  {
   "cell_type": "code",
   "execution_count": null,
   "metadata": {},
   "outputs": [],
   "source": []
  }
 ],
 "metadata": {
  "kernelspec": {
   "display_name": "digital-engineering",
   "language": "python",
   "name": "python3"
  },
  "language_info": {
   "codemirror_mode": {
    "name": "ipython",
    "version": 3
   },
   "file_extension": ".py",
   "mimetype": "text/x-python",
   "name": "python",
   "nbconvert_exporter": "python",
   "pygments_lexer": "ipython3",
   "version": "3.8.18"
  }
 },
 "nbformat": 4,
 "nbformat_minor": 2
}
