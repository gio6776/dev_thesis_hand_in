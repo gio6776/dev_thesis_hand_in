{
 "cells": [
  {
   "cell_type": "markdown",
   "metadata": {},
   "source": [
    "# SQLite in Python"
   ]
  },
  {
   "cell_type": "code",
   "execution_count": 1,
   "metadata": {},
   "outputs": [],
   "source": [
    "import sqlite3\n",
    "\n",
    "# Connect to the SQLite database\n",
    "conn = sqlite3.connect('example.db')\n",
    "\n",
    "try:\n",
    "    # Create a cursor object\n",
    "    cursor = conn.cursor()\n",
    "    \n",
    "    # Attempt to execute a faulty query\n",
    "    cursor.execute('SELECT * FROM stocks')\n",
    "    \n",
    "    # Committing changes (not necessary for SELECT statements, but included for completeness)\n",
    "    conn.commit()\n",
    "    \n",
    "except sqlite3.Error as e:\n",
    "    # Catch and print the error message\n",
    "    print(f\"An error occurred: {e}\")\n",
    "\n",
    "finally:\n",
    "    # Close the connection to the database\n",
    "    conn.close()\n"
   ]
  },
  {
   "cell_type": "markdown",
   "metadata": {},
   "source": [
    "## Interacting with Spider File"
   ]
  },
  {
   "cell_type": "code",
   "execution_count": 8,
   "metadata": {},
   "outputs": [
    {
     "name": "stdout",
     "output_type": "stream",
     "text": [
      "Column Names: ['Aircraft_ID', 'Max_Gross_Weight', 'cumulative_sum']\n",
      "(5, '73,500 lb (33,300 kg)', 73.0)\n",
      "(3, '50,000 lb (22,680 kg)', 123.0)\n",
      "(2, '3,200 lb (1,451 kg)', 126.0)\n",
      "(4, '123,500 lb (56,000 kg)', 249.0)\n",
      "(1, '1,370 lb (635 kg)', 250.0)\n"
     ]
    }
   ],
   "source": [
    "import sqlite3\n",
    "\n",
    "# Path to your .sqlite database file\n",
    "database_path = r'G:\\My Drive\\Profissional & Acadêmico\\Mestrados\\DTU\\5_thesis\\dev_thesis\\data\\sqlite_test\\aircraft\\aircraft.sqlite'\n",
    "\n",
    "# Connect to the SQLite database\n",
    "conn = sqlite3.connect(database_path)\n",
    "\n",
    "try:\n",
    "    # Create a cursor object\n",
    "    cursor = conn.cursor()\n",
    "    \n",
    "    # Execute a SELECT statement\n",
    "    # Replace 'TableName' with the actual name of the table you want to query\n",
    "    cursor.execute('''\n",
    "                   WITH max_gross_weight AS (\n",
    "                    \n",
    "                    SELECT Aircraft_ID, Max_Gross_Weight, sum(Max_Gross_Weight) OVER (ORDER BY Max_Gross_Weight DESC) as cumulative_sum\n",
    "                    FROM aircraft)\n",
    "                   \n",
    "                   select * from max_gross_weight\n",
    "                    ''')\n",
    "    \n",
    "    # Fetch the column names\n",
    "    column_names = [description[0] for description in cursor.description]\n",
    "    \n",
    "    # Print the column names\n",
    "    print(\"Column Names:\", column_names)\n",
    "    \n",
    "    # Fetch all rows from the query result\n",
    "    rows = cursor.fetchall()\n",
    "    \n",
    "    # Print the rows\n",
    "    for row in rows:\n",
    "        print(row)\n",
    "\n",
    "except sqlite3.Error as e:\n",
    "    # Print any error that occurs\n",
    "    print(f\"An error occurred: {e}\")\n",
    "\n",
    "finally:\n",
    "    # Close the connection to the database\n",
    "    conn.close()\n",
    "\n"
   ]
  },
  {
   "cell_type": "markdown",
   "metadata": {},
   "source": [
    "# LLM expriments - Important considerations\n",
    "Save the whole response (tokens used, and all the metadata)"
   ]
  },
  {
   "cell_type": "code",
   "execution_count": null,
   "metadata": {},
   "outputs": [],
   "source": []
  }
 ],
 "metadata": {
  "kernelspec": {
   "display_name": "digital-engineering",
   "language": "python",
   "name": "python3"
  },
  "language_info": {
   "codemirror_mode": {
    "name": "ipython",
    "version": 3
   },
   "file_extension": ".py",
   "mimetype": "text/x-python",
   "name": "python",
   "nbconvert_exporter": "python",
   "pygments_lexer": "ipython3",
   "version": "3.8.18"
  }
 },
 "nbformat": 4,
 "nbformat_minor": 2
}
